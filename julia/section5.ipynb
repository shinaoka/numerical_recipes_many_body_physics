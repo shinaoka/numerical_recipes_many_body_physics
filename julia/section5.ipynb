{
 "cells": [
  {
   "cell_type": "markdown",
   "metadata": {},
   "source": [
    "# Section 5"
   ]
  },
  {
   "cell_type": "code",
   "execution_count": 14,
   "metadata": {},
   "outputs": [
    {
     "data": {
      "text/plain": [
       "\"\\\\usepackage{amsmath}\""
      ]
     },
     "metadata": {},
     "output_type": "display_data"
    }
   ],
   "source": [
    "using PyPlot\n",
    "\n",
    "rcParams = PyPlot.PyDict(PyPlot.matplotlib.\"rcParams\")\n",
    "\n",
    "rcParams[\"text.usetex\"] = true\n",
    "rcParams[\"font.family\"] = \"serif\"\n",
    "rcParams[\"font.size\"] = 16\n",
    "rcParams[\"text.latex.preamble\"] = raw\"\\usepackage{amsmath}\""
   ]
  },
  {
   "cell_type": "code",
   "execution_count": 15,
   "metadata": {},
   "outputs": [],
   "source": [
    "using SparseIR"
   ]
  },
  {
   "cell_type": "code",
   "execution_count": 16,
   "metadata": {},
   "outputs": [
    {
     "name": "stderr",
     "output_type": "stream",
     "text": [
      "WARNING: redefinition of constant newaxis. This may fail, cause incorrect answers, or produce other errors.\n"
     ]
    },
    {
     "data": {
      "text/plain": [
       "1-element Vector{CartesianIndex{0}}:\n",
       " CartesianIndex()"
      ]
     },
     "metadata": {},
     "output_type": "display_data"
    }
   ],
   "source": [
    "# Some utility\n",
    "const newaxis = [CartesianIndex()] "
   ]
  },
  {
   "cell_type": "markdown",
   "metadata": {},
   "source": [
    "## Spectral function\n",
    "Three Gaussians with parameters (position,width,weight) = (0,0.15,0.2),(±1,0.8,0.4).\n",
    "The same spectrum was used in J. Otsuki et al., PRE 95, 061302(R) (2017)."
   ]
  },
  {
   "cell_type": "code",
   "execution_count": 17,
   "metadata": {},
   "outputs": [
    {
     "data": {
      "text/plain": [
       "1-element Vector{PyCall.PyObject}:\n",
       " PyObject <matplotlib.lines.Line2D object at 0x16bd4fd90>"
      ]
     },
     "metadata": {},
     "output_type": "display_data"
    }
   ],
   "source": [
    "gaussian(x, mu, sigma) = exp(-((x-mu)/sigma)^2) / (sqrt(π)*sigma)\n",
    "rho(omega) = 0.2*gaussian(omega, 0.0, 0.15) + 0.4*gaussian(omega, 1.0, 0.8) + 0.4*gaussian(omega, -1.0, 0.8)\n",
    "\n",
    "omegas = range(-2.5, 2.5, length=1000)\n",
    "plt.xlabel(L\"$\\omega$\")\n",
    "plt.ylabel(L\"$\\rho(\\omega)$\")\n",
    "plt.plot(omegas, rho.(omegas))"
   ]
  },
  {
   "cell_type": "markdown",
   "metadata": {},
   "source": [
    "## Imaginary-time Green's function\n",
    "\n",
    "We transform the spectral function to the Green's function using\n",
    "$$\n",
    "G(\\tau) = - \\int_{-\\omega_\\mathrm{max}}^{\\omega_\\mathrm{max}}d\\tau K(\\tau, \\omega) \\rho(\\omega),\n",
    "$$\n",
    "where\n",
    "$$\n",
    "K(\\tau, \\omega) = \\frac{e^{-\\tau\\omega}}{1+e^{-\\beta\\omega}}.\n",
    "$$\n",
    "\n",
    "When we discretize the kernel on uniform meshs for $\\tau$ and $\\omega$,\n",
    "we obtain\n",
    "$$\n",
    "G(\\tau_i) = - \\frac{2\\omega_\\mathrm{max}}{N_\\omega} \\sum_j K(\\tau_i, \\omega_j) \\rho(\\omega_j) \n",
    "$$\n",
    "for $i=1,2,\\cdots,N_\\tau$ and $j=1,2,\\cdots,N_\\omega$.\n",
    "The cut-off frequency $\\omega_\\mathrm{max}$ must be large enough.\n",
    "In this example, we use $\\omega_\\mathrm{max}=10$."
   ]
  },
  {
   "cell_type": "code",
   "execution_count": 18,
   "metadata": {},
   "outputs": [
    {
     "name": "stderr",
     "output_type": "stream",
     "text": [
      "sys:1: UserWarning: Attempted to set non-positive bottom ylim on a log-scaled axis.\n",
      "Invalid limit will be ignored.\n",
      "sys:1: UserWarning: Attempted to set non-positive top ylim on a log-scaled axis.\n",
      "Invalid limit will be ignored.\n"
     ]
    },
    {
     "data": {
      "text/plain": [
       "1-element Vector{PyCall.PyObject}:\n",
       " PyObject <matplotlib.lines.Line2D object at 0x16bc20f40>"
      ]
     },
     "metadata": {},
     "output_type": "display_data"
    }
   ],
   "source": [
    "wmax = 10.0\n",
    "beta = 10.0\n",
    "\n",
    "nomega = 1000\n",
    "ntau = 1000\n",
    "\n",
    "omegas_mesh = collect(range(-wmax, wmax, length=nomega))\n",
    "taus_mesh = collect(range(0, beta, length=ntau))\n",
    "\n",
    "kernel(tau, omega) = exp(-tau*omega)/(1 + exp(-beta*omega))\n",
    "\n",
    "kernel_val = kernel.(taus_mesh[:,newaxis], omegas_mesh[newaxis,:])\n",
    "gtau = - kernel_val * rho.(omegas_mesh) * (2*wmax/nomega)\n",
    "\n",
    "plt.xlabel(L\"$\\tau$\")\n",
    "plt.ylabel(L\"$G(\\tau)$\")\n",
    "plt.ylim([-0.6,0])\n",
    "plt.grid()\n",
    "plt.plot(taus_mesh, gtau)"
   ]
  },
  {
   "cell_type": "code",
   "execution_count": 19,
   "metadata": {},
   "outputs": [
    {
     "name": "stdout",
     "output_type": "stream",
     "text": [
      "-0.4995"
     ]
    }
   ],
   "source": [
    "print(gtau[1])"
   ]
  },
  {
   "cell_type": "markdown",
   "metadata": {},
   "source": [
    "## Reconstruction of spectral function\n",
    "\n",
    "Can we reconstruct the original $\\rho(\\omega)$?\n",
    "You might use\n",
    "$$\n",
    "\\rho(\\omega_j) = - \\frac{N_\\omega}{2\\omega_\\mathrm{max}} \\sum_i (K^{-1})_{ji} G(\\tau_j)\n",
    "$$\n",
    "\n",
    "."
   ]
  },
  {
   "cell_type": "code",
   "execution_count": 27,
   "metadata": {},
   "outputs": [
    {
     "name": "stderr",
     "output_type": "stream",
     "text": [
      "sys:1: UserWarning: Matplotlib is currently using agg, which is a non-GUI backend, so cannot show the figure.\n"
     ]
    }
   ],
   "source": [
    "# OK, you get random data... (We actually used the pseudo inverse)\n",
    "using LinearAlgebra\n",
    "rho_reconst = -  (nomega/(2*wmax)) * (pinv(kernel_val, rtol=1e-3) * gtau)\n",
    "plt.plot(omegas_mesh, rho_reconst, label=\"Original\")\n",
    "plt.plot(omegas_mesh, rho.(omegas_mesh), ls=\"--\", label=\"Reconstructed\")\n",
    "plt.xlabel(L\"$\\omega$\")\n",
    "plt.grid()\n",
    "plt.ylabel(L\"$\\rho(\\omega)$\")\n",
    "plt.tight_layout()\n",
    "plt.legend(loc=\"best\", frameon=false)\n",
    "plt.savefig(\"three_gaussian_julia.pdf\", transparent=true)\n",
    ";"
   ]
  },
  {
   "cell_type": "code",
   "execution_count": 21,
   "metadata": {},
   "outputs": [],
   "source": [
    "gtau_reconst = - (kernel_val * rho_reconst) * (2*wmax/nomega)\n",
    "\n",
    "plt.xlabel(L\"$\\tau$\")\n",
    "plt.ylabel(L\"$G(\\tau)$\")\n",
    "plt.xlim([0,beta])\n",
    "plt.grid()\n",
    "plt.plot(taus_mesh, -gtau, label=\"Original\")\n",
    "plt.plot(taus_mesh[1:10:end], -gtau_reconst[1:10:end], label=\"Reconstructed\", ls=\"\", marker=\"x\")\n",
    "plt.plot(taus_mesh, abs.(gtau-gtau_reconst), ls=\"--\", marker=\"\", label=\"Difference\")\n",
    "plt.legend(loc=\"best\", frameon=false)\n",
    "plt.yscale(\"log\")\n",
    "plt.tight_layout()\n",
    "plt.savefig(\"three_gaussian_gtau_julia.pdf\", transparent=true)"
   ]
  },
  {
   "cell_type": "code",
   "execution_count": 22,
   "metadata": {},
   "outputs": [
    {
     "data": {
      "text/plain": [
       "1-element Vector{PyCall.PyObject}:\n",
       " PyObject <matplotlib.lines.Line2D object at 0x2aaf96190>"
      ]
     },
     "metadata": {},
     "output_type": "display_data"
    }
   ],
   "source": [
    "plt.xlabel(L\"$\\tau$\")\n",
    "plt.ylabel(L\"Error in $G(\\tau)$\")\n",
    "plt.plot(taus_mesh, abs.(gtau-gtau_reconst), ls=\"\", marker=\"x\")"
   ]
  },
  {
   "cell_type": "markdown",
   "metadata": {},
   "source": [
    "## Singular values"
   ]
  },
  {
   "cell_type": "code",
   "execution_count": 23,
   "metadata": {},
   "outputs": [],
   "source": [
    "K = kernel_val * (2*wmax/nomega)\n",
    "F = svd(K)\n",
    "u, s, vh = F.U, F.S, F.Vt \n",
    "plt.ylabel(L\"$s_i$\")\n",
    "plt.xlabel(L\"$i$\")\n",
    "plt.semilogy(s[1:31], ls=\"\", marker=\"x\")\n",
    "plt.tight_layout()\n",
    "plt.savefig(\"kf_singular_vals_julia.pdf\", transparent=true)"
   ]
  },
  {
   "cell_type": "markdown",
   "metadata": {},
   "source": [
    "## Singular vectors"
   ]
  },
  {
   "cell_type": "code",
   "execution_count": 24,
   "metadata": {},
   "outputs": [],
   "source": [
    "fig = plt.figure(figsize=(6,8))\n",
    "ax1 = plt.subplot(211)\n",
    "ax2 = plt.subplot(212)\n",
    "axes = [ax1, ax2]\n",
    "\n",
    "for i in 1:4\n",
    "    ax1.plot(taus_mesh, u[:,i], label=\"i=$(i-1)\")\n",
    "    ax2.plot(omegas_mesh, vh[i,:], label=\"i=$(i-1)\")\n",
    "end\n",
    "\n",
    "ax1.set_xlabel(L\"$\\tau$\")\n",
    "ax2.set_xlabel(L\"$\\omega$\")\n",
    "ax1.set_ylabel(L\"$\\boldsymbol{u}_i$\")\n",
    "ax2.set_ylabel(L\"$\\boldsymbol{v}_i$\")\n",
    "ax1.set_xlim([0,beta])\n",
    "ax2.set_xlim([-wmax, wmax])\n",
    "\n",
    "ax1.legend(loc=\"best\", frameon=false)\n",
    "ax2.legend(loc=\"best\", frameon=false)\n",
    "plt.tight_layout()\n",
    "plt.savefig(\"kf_singular_vectors_julia.pdf\", transparent=true)"
   ]
  },
  {
   "cell_type": "code",
   "execution_count": 25,
   "metadata": {},
   "outputs": [],
   "source": [
    "fig = plt.figure(figsize=(6,6))\n",
    "ax1 = plt.subplot(211)\n",
    "ax2 = plt.subplot(212, sharex = ax1)\n",
    "axes = [ax1, ax2]\n",
    "\n",
    "rhoi = vh * rho.(omegas_mesh)\n",
    "rhoi_reconst = vh * rho_reconst\n",
    "gi = transpose(u) * gtau\n",
    "gi_reconst = transpose(u) * gtau_reconst\n",
    "\n",
    "ax2.set_xlabel(L\"$i$\")\n",
    "ax1.set_ylabel(L\"$|\\rho_i|$\")\n",
    "ax2.set_ylabel(L\"$|g_i|$\")\n",
    "\n",
    "x = collect(1:length(rhoi))\n",
    "ax1.semilogy(x[1:2:end], abs.(rhoi)[1:2:end], ls=\"\", marker=\"+\", label=L\"$|\\rho^\\mathrm{original}_i|$\")\n",
    "ax1.semilogy(x[1:2:end], abs.(rhoi_reconst)[1:2:end], ls=\"\", marker=\"x\", label=L\"$|\\rho^\\mathrm{reconst}_i|$\")\n",
    "ax2.semilogy(x[1:2:end], abs.(gi)[1:2:end], ls=\"\", marker=\"+\", label=L\"$|g^\\mathrm{original}_i|$\")\n",
    "ax2.semilogy(x[1:2:end], abs.(gi_reconst)[1:2:end], ls=\"\", marker=\"x\", label=L\"$|g^\\mathrm{reconst}_i|$\")\n",
    "ax1.set_xlim([0,30])\n",
    "ax1.set_ylim([1e-10,10])\n",
    "ax1.set_ylim([1e-2,10])\n",
    "ax2.set_ylim([1e-10,10])\n",
    "ax1.legend(loc=\"best\", frameon=false)\n",
    "ax2.legend(loc=\"best\", frameon=false)\n",
    "plt.tight_layout()\n",
    "plt.savefig(\"gi_rhoi.pdf\", transparent=true)"
   ]
  },
  {
   "cell_type": "code",
   "execution_count": 26,
   "metadata": {},
   "outputs": [
    {
     "data": {
      "text/plain": [
       "1-element Vector{PyCall.PyObject}:\n",
       " PyObject <matplotlib.lines.Line2D object at 0x2ac12b100>"
      ]
     },
     "metadata": {},
     "output_type": "display_data"
    }
   ],
   "source": [
    "# Hint for Exercise\n",
    "# We want to reconstruct rho(omega) from the first 10 SVD components\n",
    "num_comp = 10\n",
    "plt.plot(omegas_mesh, vec(rhoi[newaxis,1:num_comp]*vh[1:num_comp,:]))"
   ]
  }
 ],
 "metadata": {
  "interpreter": {
   "hash": "aee8b7b246df8f9039afb4144a1f6fd8d2ca17a180786b69acc140d282b71a49"
  },
  "kernelspec": {
   "display_name": "Julia 1.7.1",
   "language": "julia",
   "name": "julia-1.7"
  },
  "language_info": {
   "file_extension": ".jl",
   "mimetype": "application/julia",
   "name": "julia",
   "version": "1.7.1"
  }
 },
 "nbformat": 4,
 "nbformat_minor": 4
}
