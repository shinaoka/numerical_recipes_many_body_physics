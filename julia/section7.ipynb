{
 "cells": [
  {
   "cell_type": "markdown",
   "metadata": {},
   "source": [
    "# Section 7"
   ]
  },
  {
   "cell_type": "code",
   "execution_count": 17,
   "metadata": {},
   "outputs": [
    {
     "data": {
      "text/plain": [
       "\"\\\\usepackage{amsmath}\""
      ]
     },
     "metadata": {},
     "output_type": "display_data"
    }
   ],
   "source": [
    "using PyPlot\n",
    "\n",
    "rcParams = PyPlot.PyDict(PyPlot.matplotlib.\"rcParams\")\n",
    "\n",
    "rcParams[\"text.usetex\"] = true\n",
    "rcParams[\"font.family\"] = \"serif\"\n",
    "rcParams[\"font.size\"] = 16\n",
    "rcParams[\"text.latex.preamble\"] = raw\"\\usepackage{amsmath}\""
   ]
  },
  {
   "cell_type": "code",
   "execution_count": 18,
   "metadata": {},
   "outputs": [
    {
     "data": {
      "text/plain": [
       "PyObject <module 'irbasis3' from '/Users/hiroshi/git/irbasis3/src/irbasis3/__init__.py'>"
      ]
     },
     "metadata": {},
     "output_type": "display_data"
    }
   ],
   "source": [
    "import PyCall: pyimport\n",
    "irbasis3 = pyimport(\"irbasis3\")"
   ]
  },
  {
   "cell_type": "markdown",
   "metadata": {},
   "source": [
    "## Generate IR basis by singular value expansion"
   ]
  },
  {
   "cell_type": "code",
   "execution_count": 19,
   "metadata": {},
   "outputs": [
    {
     "data": {
      "text/plain": [
       "PyObject <irbasis3.basis.FiniteTempBasis object at 0x2a4d189d0>"
      ]
     },
     "metadata": {},
     "output_type": "display_data"
    }
   ],
   "source": [
    "# Create kenerl for lambda_ = 100 and beta = 10\n",
    "# The default value of eps ``cutoff for singular values\" is\n",
    "# set to 2.2e-16.\n",
    "# In this sample, we compute fewer basis functions.\n",
    "lambda_ = 100\n",
    "beta = 10\n",
    "wmax = lambda_/beta\n",
    "K = irbasis3.KernelFFlat(lambda_=100)\n",
    "basis = irbasis3.FiniteTempBasis(\n",
    "    K, statistics=\"F\", beta=beta, eps=1e-10)"
   ]
  },
  {
   "cell_type": "markdown",
   "metadata": {},
   "source": [
    "## Fitting $\\rho(\\omega)$"
   ]
  },
  {
   "cell_type": "code",
   "execution_count": 20,
   "metadata": {},
   "outputs": [
    {
     "data": {
      "text/plain": [
       "1-element Vector{PyCall.PyObject}:\n",
       " PyObject <matplotlib.lines.Line2D object at 0x2a4d48910>"
      ]
     },
     "metadata": {},
     "output_type": "display_data"
    }
   ],
   "source": [
    "# Three Gaussian peaks (normalized to 1)\n",
    "gaussian(x, mu, sigma) = exp.(-((x.-mu)/sigma).^2)/(sqrt(π)*sigma)\n",
    "\n",
    "rho(omega) = 0.2*gaussian(omega, 0.0, 0.15) + \n",
    "    0.4*gaussian(omega, 1.0, 0.8) + 0.4*gaussian(omega, -1.0, 0.8)\n",
    "\n",
    "omegas = collect(range(-5, 5, length=1000))\n",
    "plt.xlabel(L\"$\\omega$\")\n",
    "plt.ylabel(L\"$\\rho(\\omega)$\")\n",
    "plt.plot(omegas, rho(omegas))"
   ]
  },
  {
   "cell_type": "code",
   "execution_count": 21,
   "metadata": {},
   "outputs": [
    {
     "data": {
      "text/plain": [
       "PyObject Text(0, 0.5, '$|\\\\rho_l|$')"
      ]
     },
     "metadata": {},
     "output_type": "display_data"
    }
   ],
   "source": [
    "rhol = basis.v.overlap(rho)\n",
    "plt.semilogy(1:2:length(basis.s), abs.(rhol[1:2:end]), marker=\"o\")\n",
    "plt.xlabel(L\"$l$\")\n",
    "plt.ylabel(L\"$|\\rho_l|$\")"
   ]
  },
  {
   "cell_type": "code",
   "execution_count": 22,
   "metadata": {},
   "outputs": [
    {
     "data": {
      "text/plain": [
       "PyObject Text(0, 0.5, '$|g_l|$')"
      ]
     },
     "metadata": {},
     "output_type": "display_data"
    }
   ],
   "source": [
    "gl = -basis.s .* rhol\n",
    "plt.semilogy(1:2:length(basis.s), abs.(gl[1:2:end]), marker=\"o\")\n",
    "plt.xlabel(L\"$l$\")\n",
    "plt.ylabel(L\"$|g_l|$\")"
   ]
  },
  {
   "cell_type": "markdown",
   "metadata": {},
   "source": [
    "## From IR to $\\tau$"
   ]
  },
  {
   "cell_type": "code",
   "execution_count": 23,
   "metadata": {},
   "outputs": [
    {
     "data": {
      "text/plain": [
       "eval_gtau (generic function with 1 method)"
      ]
     },
     "metadata": {},
     "output_type": "display_data"
    }
   ],
   "source": [
    "function eval_gtau(taus)\n",
    "    uval = basis.u(taus)\n",
    "    return transpose(uval) * gl\n",
    "end"
   ]
  },
  {
   "cell_type": "code",
   "execution_count": 24,
   "metadata": {},
   "outputs": [
    {
     "data": {
      "text/plain": [
       "PyObject Text(0, 0.5, '$G(\\\\tau)$')"
      ]
     },
     "metadata": {},
     "output_type": "display_data"
    }
   ],
   "source": [
    "taus = collect(range(0, beta, length=1000))\n",
    "uval = basis.u(taus)\n",
    "gtaus = transpose(uval) * gl\n",
    "plt.plot(taus, gtaus)\n",
    "plt.xlabel(L\"$\\tau$\")\n",
    "plt.ylabel(L\"$G(\\tau)$\")"
   ]
  },
  {
   "cell_type": "markdown",
   "metadata": {},
   "source": [
    "## Reconstruct $g_l$ by numerical integration\n",
    "\n",
    "$$\n",
    "g_l = \\int_0^\\beta d\\tau U_l(\\tau) G(\\tau)\n",
    "$$"
   ]
  },
  {
   "cell_type": "code",
   "execution_count": 25,
   "metadata": {},
   "outputs": [
    {
     "data": {
      "text/plain": [
       "30-element Vector{Float64}:\n",
       " -0.6920636785862002\n",
       " -1.3014529587296488e-17\n",
       "  0.1298138445620059\n",
       " -3.8441292775924665e-17\n",
       "  0.032784004824917515\n",
       "  9.586397245349238e-18\n",
       "  0.00047491259960263894\n",
       " -1.2606749467088898e-18\n",
       " -0.004408753068411987\n",
       " -6.702634493002293e-17\n",
       "  ⋮\n",
       " -1.406014918985815e-17\n",
       "  1.119088487331689e-8\n",
       "  2.5337456771641985e-17\n",
       " -1.6360664398086468e-9\n",
       " -1.7618257432785552e-18\n",
       "  2.0110880980903573e-10\n",
       "  1.0498866063055828e-17\n",
       " -2.1923569800568072e-11\n",
       "  3.1826760612787504e-17"
      ]
     },
     "metadata": {},
     "output_type": "display_data"
    }
   ],
   "source": [
    "gl_reconst = basis.u.overlap(eval_gtau)"
   ]
  },
  {
   "cell_type": "markdown",
   "metadata": {},
   "source": [
    "## Reconstruct $g_l$ by sparse sampling (fitting)"
   ]
  },
  {
   "cell_type": "code",
   "execution_count": 26,
   "metadata": {},
   "outputs": [
    {
     "name": "stdout",
     "output_type": "stream",
     "text": [
      "Sampling points: [0.012540375107178717, 0.025080750214357433, 0.084608404998333, 0.1796989521454872, 0.31247002491447273, 0.4859594077678564, 0.7042195121898956, 0.9723734269125226, 1.2965285468854475, 1.6833693532706349, 2.1391650644480844, 2.6679119879113684, 3.268556407887193, 3.931899929356174, 4.638747103136412, 5.361252896863588, 6.068100070643824, 6.731443592112809, 7.332088012088631, 7.860834935551916, 8.316630646729367, 8.703471453114553, 9.027626573087478, 9.295780487810104, 9.514040592232144, 9.687529975085527, 9.820301047854514, 9.915391595001667, 9.974919249785641, 9.987459624892821]\n",
      "Condition number: 5.89770217368647\n"
     ]
    },
    {
     "data": {
      "text/plain": [
       "30-element Vector{Float64}:\n",
       " -0.692063678586201\n",
       "  8.910192898161881e-17\n",
       "  0.12981384456200604\n",
       "  6.704282595044304e-17\n",
       "  0.03278400482491764\n",
       "  3.988194723636315e-17\n",
       "  0.00047491259960281794\n",
       " -3.768508595036529e-17\n",
       " -0.004408753068412242\n",
       " -4.654129405269268e-17\n",
       "  ⋮\n",
       "  3.7433444340347394e-17\n",
       "  1.1190884698599271e-8\n",
       " -7.88720584629694e-18\n",
       " -1.6360665180969684e-9\n",
       "  2.7754697875007994e-17\n",
       "  2.011088278452334e-10\n",
       "  2.2686313734929284e-17\n",
       " -2.1923455346143264e-11\n",
       " -2.458777469980358e-17"
      ]
     },
     "metadata": {},
     "output_type": "display_data"
    }
   ],
   "source": [
    "smpl = irbasis3.TauSampling(basis)\n",
    "println(\"Sampling points: \", smpl.sampling_points)\n",
    "println(\"Condition number: \", smpl.cond)\n",
    "gl_reconst_sparse = smpl.fit(eval_gtau(smpl.sampling_points))"
   ]
  },
  {
   "cell_type": "code",
   "execution_count": 27,
   "metadata": {},
   "outputs": [],
   "source": [
    "dim = basis.size\n",
    "plt.plot(taus, basis.u[dim](taus))\n",
    "plt.plot(taus, zero(taus), ls=\"-\", color=\"k\", marker=\"\", lw=0.5)\n",
    "for x in smpl.sampling_points\n",
    "    plt.axvline(x=x, ls=\"--\", lw=0.5, color=\"k\")\n",
    "end\n",
    "plt.xlabel(L\"$\\tau$\")\n",
    "plt.ylabel(L\"$U_l(\\tau)$\")\n",
    "plt.xlim([0, beta])\n",
    "plt.tight_layout()\n",
    "plt.savefig(\"sampling_points_tau_julia.pdf\")"
   ]
  },
  {
   "cell_type": "markdown",
   "metadata": {},
   "source": [
    "## Comparison"
   ]
  },
  {
   "cell_type": "code",
   "execution_count": 28,
   "metadata": {},
   "outputs": [
    {
     "data": {
      "text/plain": [
       "PyObject Text(46.139200221392, 0.5, '$|g_l|$')"
      ]
     },
     "metadata": {},
     "output_type": "display_data"
    }
   ],
   "source": [
    "gl = -basis.s .* rhol\n",
    "plt.semilogy(abs.(gl[1:2:end]), marker=\"o\")\n",
    "plt.semilogy(abs.(gl_reconst[1:2:end]), marker=\"x\")\n",
    "plt.semilogy(abs.(gl_reconst_sparse[1:2:end]), marker=\"+\")\n",
    "plt.xlabel(L\"$l$\")\n",
    "plt.ylabel(L\"$|g_l|$\")"
   ]
  },
  {
   "cell_type": "markdown",
   "metadata": {},
   "source": [
    "## Sparse sampling in Matsubara"
   ]
  },
  {
   "cell_type": "code",
   "execution_count": 29,
   "metadata": {},
   "outputs": [
    {
     "name": "stdout",
     "output_type": "stream",
     "text": [
      "Sampling frequencies: [-229, -217, -93, -55, -39, -29, -23, -17, -15, -13, -11, -9, -7, -5, -3, -1, 1, 3, 5, 7, 9, 11, 13, 15, 17, 23, 29, 39, 55, 93, 217, 229]\n",
      "Condition number: 11.266380245503292\n"
     ]
    }
   ],
   "source": [
    "function eval_giv(v)\n",
    "    uhat_val = basis.uhat(v)\n",
    "    return transpose(uhat_val) * gl\n",
    "end\n",
    "\n",
    "smpl_matsu = irbasis3.MatsubaraSampling(basis)\n",
    "println(\"Sampling frequencies: \", smpl_matsu.sampling_points)\n",
    "println(\"Condition number: \", smpl_matsu.cond)\n",
    "gl_reconst_sparse_matsu = smpl_matsu.fit(eval_giv(smpl_matsu.sampling_points))\n",
    "\n",
    "gl = -basis.s .* rhol\n",
    "plt.semilogy(abs.(gl[1:2:end]), marker=\"o\", label=\"Exact\")\n",
    "plt.semilogy(abs.(gl_reconst_sparse[1:2:end]), marker=\"x\",\n",
    "    label=\"Sparse sampling (tau)\", color=\"orange\")\n",
    "plt.semilogy(abs.(gl_reconst_sparse_matsu[1:2:end]), marker=\"v\",\n",
    "    label=\"Sparse sampling (Matsubara)\", color=\"green\")\n",
    "plt.semilogy(abs.(gl_reconst_sparse[1:2:end]-gl[1:2:end]), marker=\"\", ls=\"--\", label=\"\",\n",
    "    color=\"orange\")\n",
    "plt.semilogy(abs.(gl_reconst_sparse_matsu[1:2:end]-gl[1:2:end]), marker=\"\", ls=\"--\", label=\"\",\n",
    "    color=\"green\")\n",
    "plt.legend(loc=\"best\", frameon=false)\n",
    "plt.xlabel(L\"$l$\")\n",
    "plt.ylabel(L\"$|g_l|$\")\n",
    "plt.tight_layout()\n",
    "plt.savefig(\"gl_sparse_julia.pdf\")"
   ]
  },
  {
   "cell_type": "code",
   "execution_count": 30,
   "metadata": {},
   "outputs": [],
   "source": [
    "get_nonzero_part(l, data) = l%2 == 0 ? imag(data) : real(data)\n",
    "\n",
    "fig, ax = plt.subplots(figsize=(10,5))\n",
    "    \n",
    "nmax = 2*div(maximum(smpl_matsu.sampling_points),2)\n",
    "nvec = 2*collect(-nmax:nmax) .+ 1\n",
    "vvec = nvec .* (pi/beta)\n",
    "markers = [\"o\", \"s\"]\n",
    "for (idx_l, l) in enumerate([9, basis.size-1])\n",
    "    ax.plot(vvec, get_nonzero_part(l, basis.uhat[l+1](nvec)), \n",
    "    label=L\"$l=\" * string(l) * L\"$\", ls=\"-\", marker=markers[idx_l], ms=6, lw=0.5)\n",
    "end\n",
    "\n",
    "for n in smpl_matsu.sampling_points\n",
    "    ax.axvline(n*pi/beta, ls=\"--\", lw=0.5, color=\"k\")\n",
    "    ax.axhline(0, ls=\"-\", lw=0.25, color=\"k\")\n",
    "end\n",
    "\n",
    "ax.legend(frameon=false)\n",
    "ax.set_xlabel(L\"$\\nu$\")\n",
    "ax.set_ylabel(L\"Re/Im $G(\\mathrm{i}\\nu)$\")\n",
    "    \n",
    "ax.set_xlim([0.5*pi/beta, nothing])\n",
    "ax.set_ylim([-10, 10])\n",
    "ax.set_xscale(\"log\")\n",
    "ax.set_yscale(\"symlog\", linthresh=1e-6)\n",
    "    \n",
    "plt.tight_layout()\n",
    "plt.savefig(\"uhat_julia.pdf\")"
   ]
  },
  {
   "cell_type": "code",
   "execution_count": 31,
   "metadata": {},
   "outputs": [],
   "source": []
  }
 ],
 "metadata": {
  "interpreter": {
   "hash": "aee8b7b246df8f9039afb4144a1f6fd8d2ca17a180786b69acc140d282b71a49"
  },
  "kernelspec": {
   "display_name": "Julia 1.7.1",
   "language": "julia",
   "name": "julia-1.7"
  },
  "language_info": {
   "file_extension": ".jl",
   "mimetype": "application/julia",
   "name": "julia",
   "version": "1.7.1"
  }
 },
 "nbformat": 4,
 "nbformat_minor": 4
}
