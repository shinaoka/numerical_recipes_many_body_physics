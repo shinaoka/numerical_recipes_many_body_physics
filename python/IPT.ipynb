{
 "cells": [
  {
   "cell_type": "markdown",
   "metadata": {},
   "source": [
    "# IPT"
   ]
  },
  {
   "cell_type": "code",
   "execution_count": 1,
   "metadata": {},
   "outputs": [],
   "source": [
    "import numpy as np\n",
    "%matplotlib inline\n",
    "import matplotlib.pyplot as plt\n",
    "import irbasis3\n",
    "\n",
    "plt.rcParams.update({\n",
    "    \"font.family\": \"serif\",\n",
    "    \"font.size\": 16,\n",
    "})"
   ]
  },
  {
   "cell_type": "markdown",
   "metadata": {},
   "source": [
    "## Step 1: Generate IR basis and associated sampling points"
   ]
  },
  {
   "cell_type": "code",
   "execution_count": 2,
   "metadata": {},
   "outputs": [
    {
     "name": "stdout",
     "output_type": "stream",
     "text": [
      "cond (tau):  5.818091568503528\n",
      "cond (matsu):  9.63347101793072\n"
     ]
    }
   ],
   "source": [
    "beta = 10.0\n",
    "wmax = 10.0\n",
    "lambda_ = beta * wmax\n",
    "eps = 1e-7\n",
    "\n",
    "wmax = lambda_/beta\n",
    "K = irbasis3.KernelFFlat(lambda_=lambda_)\n",
    "basis = irbasis3.FiniteTempBasis(K, statistics=\"F\", beta=beta, eps=eps)\n",
    "L = basis.size\n",
    "\n",
    "# Sparse sampling in tau\n",
    "smpl_tau = irbasis3.TauSampling(basis)\n",
    "ntau = smpl_tau.sampling_points.size\n",
    "print(\"cond (tau): \", smpl_tau.cond)\n",
    "\n",
    "# Sparse sampling in Matsubara frequencies\n",
    "smpl_matsu = irbasis3.MatsubaraSampling(basis)\n",
    "nw = smpl_matsu.sampling_points.size\n",
    "print(\"cond (matsu): \", smpl_matsu.cond)"
   ]
  },
  {
   "cell_type": "markdown",
   "metadata": {},
   "source": [
    "## Step 2\n",
    "Define a non-interacting DOS:\n",
    "$$\n",
    "\\rho(\\omega) = \\frac{\\sqrt{4-\\omega^2}}{2\\pi}.\n",
    "$$"
   ]
  },
  {
   "cell_type": "code",
   "execution_count": 3,
   "metadata": {},
   "outputs": [],
   "source": [
    "rho_omega = lambda omega: np.sqrt(4-omega**2) / (2 * np.pi)\n",
    "\n",
    "from scipy.integrate import quad\n",
    "assert np.abs(quad(rho_omega, -2, 2)[0] - 1) < 1e-9 # Check rule"
   ]
  },
  {
   "cell_type": "markdown",
   "metadata": {},
   "source": [
    "## Self-consistent equation\n",
    "\n",
    "$$\n",
    "\\begin{align*}\n",
    "  G_\\mathrm{loc}(\\mathrm{i}\\nu) &= \\int \\mathrm{d}\\omega \\frac{\\rho(\\omega)}{\\mathrm{i}\\nu - \\omega - \\Sigma(\\mathrm{i}\\nu)}\\\\\n",
    "  \\mathcal{G}(\\mathrm{i}\\nu) &= (G^{-1}(\\mathrm{i}\\nu) + \\Sigma(\\mathrm{i}\\nu))^{-1}\\\\\n",
    "  \\Sigma(\\tau) &= U^2 \\mathcal{G}(\\tau)^2 \\mathcal{G}(\\beta-\\tau)\n",
    "\\end{align*}\n",
    "$$"
   ]
  },
  {
   "cell_type": "code",
   "execution_count": 4,
   "metadata": {},
   "outputs": [],
   "source": [
    "from numpy.polynomial.legendre import leggauss\n",
    "\n",
    "def scale_quad(x, w, xmin, xmax):\n",
    "    \"\"\" Scale weights and notes of quadrature to the interval [xmin, xmax] \"\"\"\n",
    "    assert xmin < xmax\n",
    "    dx = xmax - xmin\n",
    "    w_ = 0.5 * dx * w\n",
    "    x_ = (0.5 * dx) * (x + 1) + xmin\n",
    "    return x_, w_\n",
    "\n",
    "class IPTSolver:\n",
    "    def __init__(self, U, basis, rho_omega, omega_range, deg_leggauss=1000):\n",
    "        assert isinstance(omega_range, tuple)\n",
    "        assert omega_range[0] < omega_range[1]\n",
    "        self.U = U\n",
    "        self.basis = basis\n",
    "        self.beta = basis.beta\n",
    "        self.rho_omega = rho_omega\n",
    "\n",
    "        x_, w_ = leggauss(deg_leggauss)\n",
    "        self._quad_rule = scale_quad(x_, w_, omega_range[0], omega_range[1])\n",
    "\n",
    "        self._smpl_matsu = irbasis3.MatsubaraSampling(basis)\n",
    "        self._smpl_tau = irbasis3.TauSampling(basis)\n",
    "\n",
    "    def gloc_iv(self, sigma_iv):\n",
    "        \"\"\"\n",
    "        Compute G_loc(iv) from Sigma_iv\n",
    "\n",
    "        G_loc(iv) \\simeq \\sum_q w_q rho(x_q)/(iv - w_q - \\Sigma(iv))\n",
    "        \"\"\"\n",
    "        quad_points = self._quad_rule[0]\n",
    "        quad_weight = self._quad_rule[1]\n",
    "        iv = 1j * self._smpl_matsu.sampling_points * np.pi/self.beta\n",
    "        r = np.einsum('q,q,wq->w',\n",
    "            quad_weight,\n",
    "            self.rho_omega(quad_points),\n",
    "            1/((iv-sigma_iv)[:,None] - quad_points[None,:]),\n",
    "            optimize=True\n",
    "        )\n",
    "        return r\n",
    "    \n",
    "    def g0_iv(self, gloc, sigma_iw):\n",
    "        \"\"\"\n",
    "        Compute \\mathcal{G}(iv) from G_loc(iv) and Sigma(iv)\n",
    "        \"\"\"\n",
    "        return 1/(1/gloc + sigma_iw)\n",
    "    \n",
    "    def sigma_iv(self, g0_iv):\n",
    "        \"\"\"\n",
    "        Compute Sigma(tau) from \\mathcal{G}(iv)\n",
    "        \"\"\"\n",
    "        g0_IR = self._smpl_matsu.fit(g0_iv, axis=0)\n",
    "        g0_tau = self._smpl_tau.evaluate(g0_IR)\n",
    "        sigma_tau = (self.U**2) * (g0_tau**2) * g0_tau[::-1]\n",
    "        sigma_IR = self._smpl_tau.fit(sigma_tau)\n",
    "        return self._smpl_matsu.evaluate(sigma_IR, axis=0)\n",
    "    \n",
    "    def new_sigma_iv(self, sigma_iv):\n",
    "        gloc_iv = self.gloc_iv(sigma_iv)\n",
    "        g0_iv = self.g0_iv(gloc_iv, sigma_iv)\n",
    "        r = self.sigma_iv(g0_iv)\n",
    "        return r\n"
   ]
  },
  {
   "cell_type": "code",
   "execution_count": 5,
   "metadata": {},
   "outputs": [],
   "source": [
    "niter = 1000\n",
    "mixing = 0.1\n",
    "\n",
    "U = 1.0\n",
    "\n",
    "# Initialize solver\n",
    "solver = IPTSolver(U, basis, rho_omega, (-2,2))\n",
    "\n",
    "sigma_iv = np.zeros_like(\n",
    "    solver._smpl_matsu.sampling_points.size, dtype=np.complex128)\n"
   ]
  },
  {
   "cell_type": "code",
   "execution_count": 6,
   "metadata": {},
   "outputs": [
    {
     "data": {
      "text/plain": [
       "[<matplotlib.lines.Line2D at 0x132e0f970>]"
      ]
     },
     "execution_count": 6,
     "metadata": {},
     "output_type": "execute_result"
    },
    {
     "data": {
      "image/png": "[encoded data removed]",
      "text/plain": [
       "<Figure size 432x288 with 1 Axes>"
      ]
     },
     "metadata": {
      "needs_background": "light"
     },
     "output_type": "display_data"
    }
   ],
   "source": [
    "# Gloc_iv\n",
    "gloc_iv = solver.gloc_iv(sigma_iv)\n",
    "plt.plot(\n",
    "    solver._smpl_matsu.sampling_points,\n",
    "    gloc_iv.real\n",
    ")\n",
    "plt.plot(\n",
    "    solver._smpl_matsu.sampling_points,\n",
    "    gloc_iv.imag\n",
    ")"
   ]
  },
  {
   "cell_type": "code",
   "execution_count": 7,
   "metadata": {},
   "outputs": [
    {
     "data": {
      "text/plain": [
       "[<matplotlib.lines.Line2D at 0x132edd0d0>]"
      ]
     },
     "execution_count": 7,
     "metadata": {},
     "output_type": "execute_result"
    },
    {
     "data": {
      "image/png": "[encoded data removed]",
      "text/plain": [
       "<Figure size 432x288 with 1 Axes>"
      ]
     },
     "metadata": {
      "needs_background": "light"
     },
     "output_type": "display_data"
    }
   ],
   "source": [
    "# Gloc_iv\n",
    "g0_iv = solver.g0_iv(gloc_iv, sigma_iv)\n",
    "plt.plot(\n",
    "    solver._smpl_matsu.sampling_points,\n",
    "    g0_iv.real\n",
    ")\n",
    "plt.plot(\n",
    "    solver._smpl_matsu.sampling_points,\n",
    "    g0_iv.imag\n",
    ")"
   ]
  },
  {
   "cell_type": "code",
   "execution_count": 8,
   "metadata": {},
   "outputs": [
    {
     "name": "stderr",
     "output_type": "stream",
     "text": [
      "<ipython-input-8-08dc51ed2ff6>:3: RuntimeWarning: divide by zero encountered in double_scalars\n",
      "  rdiff = np.abs(new_sigma_iv - sigma_iv).max()/np.abs(sigma_iv).max()\n"
     ]
    },
    {
     "name": "stdout",
     "output_type": "stream",
     "text": [
      "0 inf\n",
      "1 9.010900980956913\n",
      "2 4.271039181729065\n",
      "3 2.696782121928425\n",
      "4 1.913903348606056\n",
      "5 1.4475503575021\n",
      "6 1.1394331352816232\n",
      "7 0.9217082729666595\n",
      "8 0.7604500235321551\n",
      "9 0.6368073447608708\n",
      "10 0.539466735313525\n",
      "11 0.4612262659937995\n",
      "12 0.3972826067406623\n",
      "13 0.34430866486415174\n",
      "14 0.2999265268613766\n",
      "15 0.2623912269145854\n",
      "16 0.23039310366490617\n",
      "17 0.20292991323205017\n",
      "18 0.1792215696613693\n",
      "19 0.15865180674059212\n",
      "20 0.14072733766098403\n",
      "21 0.12506762850016404\n",
      "22 0.11135145724836625\n",
      "23 0.09927448989085286\n",
      "24 0.08861353998369953\n",
      "25 0.07918127552536129\n",
      "26 0.07081938428203802\n",
      "27 0.06339325257478633\n",
      "28 0.05678777910257705\n",
      "29 0.05090404983678302\n",
      "30 0.045656673138781065\n",
      "31 0.040971626134173246\n",
      "32 0.036784500660245835\n",
      "33 0.03303906421156276\n",
      "34 0.029686071234884915\n",
      "35 0.02668227492109407\n",
      "36 0.023989600733795677\n",
      "37 0.021574451303682282\n",
      "38 0.01940711871570839\n",
      "39 0.017461285134267358\n",
      "40 0.01571359652008669\n",
      "41 0.014143297162322065\n",
      "42 0.012731915080968968\n",
      "43 0.011462990196500352\n",
      "44 0.010321838627597738\n",
      "45 0.009295347648120664\n",
      "46 0.008371796775176644\n",
      "47 0.007540701220414656\n",
      "48 0.006792674554277755\n",
      "49 0.0061193079371667574\n",
      "50 0.00551306368511933\n",
      "51 0.004967181278608891\n",
      "52 0.004475594205292009\n",
      "53 0.004032856262529207\n",
      "54 0.003634076141456203\n",
      "55 0.0032748592791555326\n",
      "56 0.0029512561039029767\n",
      "57 0.0026597159158292076\n",
      "58 0.002397045744781102\n",
      "59 0.0021603736120099104\n",
      "60 0.001947115694817125\n",
      "61 0.001754946955604948\n",
      "62 0.0015817748502864443\n",
      "63 0.0014257157773958139\n",
      "64 0.0012850739693031472\n",
      "65 0.0011583225618678643\n",
      "66 0.0010440866091793656\n",
      "67 0.0009411278366194384\n",
      "68 0.0008483309487267468\n",
      "69 0.0007646913287409452\n",
      "70 0.0006893039846478517\n",
      "71 0.0006213536124221922\n",
      "72 0.0005601056610553463\n",
      "73 0.0005048982964288446\n",
      "74 0.00045513517194558034\n",
      "75 0.0004102789236519269\n",
      "76 0.0003698453161177451\n",
      "77 0.000333397973190683\n",
      "78 0.00030054363437081755\n",
      "79 0.00027092788390259865\n",
      "80 0.00024423130495532214\n",
      "81 0.00022016601619773892\n",
      "82 0.00019847255247075455\n",
      "83 0.000178917055088785\n",
      "84 0.0001612887408523198\n",
      "85 0.00014539762194653176\n",
      "86 0.00013107245173163125\n",
      "87 0.00011815887392179851\n",
      "88 0.00010651775494486675\n",
      "89 9.602368126367236e-05\n",
      "90 8.656360529292683e-05\n",
      "91 7.80356251688218e-05\n",
      "92 7.034788508461509e-05\n",
      "93 6.341758428737271e-05\n",
      "94 5.717008391036242e-05\n",
      "95 5.153810202919636e-05\n",
      "96 4.6460988173603646e-05\n",
      "97 4.188406942022066e-05\n",
      "98 3.7758061048619203e-05\n",
      "99 3.403853531480033e-05\n",
      "100 3.068544265864098e-05\n",
      "101 2.7662680104987874e-05\n",
      "102 2.4937702268842635e-05\n",
      "103 2.2481170701091927e-05\n",
      "104 2.0266637800843703e-05\n",
      "105 1.8270261926031926e-05\n",
      "106 1.647055056494542e-05\n",
      "107 1.4848128825503288e-05\n",
      "108 1.3385530768682377e-05\n",
      "109 1.2067011298041167e-05\n",
      "110 1.0878376574308169e-05\n",
      "111 9.806831174554497e-06\n",
      "112 8.840840296523141e-06\n",
      "113 7.970005543947449e-06\n",
      "114 7.184952957077704e-06\n",
      "115 6.477232081073431e-06\n",
      "116 5.839224975820689e-06\n",
      "117 5.264064179914288e-06\n",
      "118 4.745558788590488e-06\n",
      "119 4.2781277838237474e-06\n",
      "120 3.856739954983059e-06\n",
      "121 3.47685973042036e-06\n",
      "122 3.1343983424647222e-06\n",
      "123 2.8256698201865553e-06\n",
      "124 2.5473512913689743e-06\n",
      "125 2.2964472256309386e-06\n",
      "126 2.0702571792377292e-06\n",
      "127 1.8663467233311475e-06\n",
      "128 1.682521245043492e-06\n",
      "129 1.5168023145751938e-06\n",
      "130 1.3674063890691797e-06\n",
      "131 1.2327256265682497e-06\n",
      "132 1.1113105513565375e-06\n",
      "133 1.001854485588617e-06\n",
      "134 9.031794551132103e-07\n",
      "135 8.142235256529736e-07\n",
      "136 7.340293709284059e-07\n",
      "137 6.617339580950672e-07\n",
      "138 5.965592658050145e-07\n",
      "139 5.3780392245103e-07\n",
      "140 4.848356254274433e-07\n",
      "141 4.370843681277601e-07\n",
      "142 3.940362850176917e-07\n",
      "143 3.55228129299113e-07\n",
      "144 3.202422838361551e-07\n",
      "145 2.8870226358030893e-07\n",
      "146 2.602686696593375e-07\n",
      "147 2.346355352502636e-07\n",
      "148 2.1152702905571305e-07\n",
      "149 1.9069449042674608e-07\n",
      "150 1.7191374820318145e-07\n",
      "151 1.5498271543251845e-07\n",
      "152 1.3971920510016007e-07\n",
      "153 1.2595898177563194e-07\n",
      "154 1.1355398055893925e-07\n",
      "155 1.0237072069578763e-07\n",
      "156 9.228887839723014e-08\n",
      "157 8.319996618125547e-08\n",
      "158 7.500619467567332e-08\n",
      "159 6.761939764035784e-08\n",
      "160 6.09600965337487e-08\n",
      "161 5.495664230425707e-08\n",
      "162 4.954443928924111e-08\n",
      "163 4.4665256746696236e-08\n",
      "164 4.026659795217444e-08\n",
      "165 3.630113816829927e-08\n",
      "166 3.272620848654065e-08\n",
      "167 2.9503352781799518e-08\n",
      "168 2.6597892376690967e-08\n",
      "169 2.3978569472299858e-08\n",
      "170 2.161720381381209e-08\n",
      "171 1.9488387004735572e-08\n",
      "172 1.756922127984498e-08\n",
      "173 1.583905750720239e-08\n",
      "174 1.4279280218752739e-08\n",
      "175 1.2873109730550759e-08\n",
      "176 1.160542045316212e-08\n",
      "177 1.0462569224557041e-08\n",
      "178 9.432266688269774e-09\n",
      "179 8.503426313735321e-09\n",
      "180 7.666058646273717e-09\n",
      "181 6.9111509088456105e-09\n",
      "182 6.230587079200694e-09\n",
      "183 5.617039955492666e-09\n",
      "184 5.063913591268672e-09\n",
      "185 4.565257076457352e-09\n",
      "186 4.115707871816627e-09\n",
      "187 3.7104280762523227e-09\n",
      "188 3.345058683199339e-09\n",
      "189 3.015665356446776e-09\n",
      "190 2.7187131169548945e-09\n",
      "191 2.451001325245608e-09\n",
      "192 2.2096534019361585e-09\n",
      "193 1.9920699276850875e-09\n",
      "194 1.795911296595836e-09\n",
      "195 1.6190708611171142e-09\n",
      "196 1.4596435796783336e-09\n",
      "197 1.3159153517453407e-09\n",
      "198 1.186341430946485e-09\n",
      "199 1.0695257376519171e-09\n",
      "200 9.64213534855353e-10\n",
      "201 8.692707407536913e-10\n",
      "202 7.8367788956177e-10\n",
      "203 7.065135558776005e-10\n",
      "204 6.369457456313083e-10\n",
      "205 5.742282982730286e-10\n",
      "206 5.176861100439636e-10\n",
      "207 4.667137205501399e-10\n",
      "208 4.2075886562082367e-10\n",
      "209 3.7932980142631395e-10\n",
      "210 3.4198065624225676e-10\n",
      "211 3.0830590523836766e-10\n",
      "212 2.7795180638108053e-10\n",
      "213 2.505841486174542e-10\n",
      "214 2.2591125217429158e-10\n",
      "215 2.0366880634958036e-10\n",
      "216 1.8361395882144605e-10\n",
      "217 1.6553739401654386e-10\n",
      "218 1.492377629467681e-10\n",
      "219 1.3454147117424827e-10\n",
      "220 1.2129702510773748e-10\n",
      "221 1.0935537252846315e-10\n",
      "222 9.858789165113332e-11\n"
     ]
    }
   ],
   "source": [
    "for iter in range(niter):\n",
    "    new_sigma_iv = solver.new_sigma_iv(sigma_iv)\n",
    "    rdiff = np.abs(new_sigma_iv - sigma_iv).max()/np.abs(sigma_iv).max()\n",
    "    print(iter, rdiff)\n",
    "    if rdiff < 1e-10:\n",
    "        break\n",
    "    sigma_iv = mixing * new_sigma_iv + (1-mixing) * sigma_iv"
   ]
  },
  {
   "cell_type": "code",
   "execution_count": 9,
   "metadata": {},
   "outputs": [
    {
     "data": {
      "text/plain": [
       "[<matplotlib.lines.Line2D at 0x132f24af0>]"
      ]
     },
     "execution_count": 9,
     "metadata": {},
     "output_type": "execute_result"
    },
    {
     "data": {
      "image/png": "[encoded data removed]",
      "text/plain": [
       "<Figure size 432x288 with 1 Axes>"
      ]
     },
     "metadata": {
      "needs_background": "light"
     },
     "output_type": "display_data"
    }
   ],
   "source": [
    "plt.plot(\n",
    "    solver._smpl_matsu.sampling_points,\n",
    "    sigma_iv.imag,\n",
    "    marker=\"x\"\n",
    ")"
   ]
  },
  {
   "cell_type": "code",
   "execution_count": null,
   "metadata": {},
   "outputs": [],
   "source": []
  }
 ],
 "metadata": {
  "interpreter": {
   "hash": "aee8b7b246df8f9039afb4144a1f6fd8d2ca17a180786b69acc140d282b71a49"
  },
  "kernelspec": {
   "display_name": "Python 3",
   "language": "python",
   "name": "python3"
  },
  "language_info": {
   "codemirror_mode": {
    "name": "ipython",
    "version": 3
   },
   "file_extension": ".py",
   "mimetype": "text/x-python",
   "name": "python",
   "nbconvert_exporter": "python",
   "pygments_lexer": "ipython3",
   "version": "3.9.9"
  }
 },
 "nbformat": 4,
 "nbformat_minor": 4
}
