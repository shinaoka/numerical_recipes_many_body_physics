{
 "cells": [
  {
   "cell_type": "code",
   "execution_count": 22,
   "metadata": {},
   "outputs": [],
   "source": [
    "import irbasis\n",
    "from numpy import *\n",
    "\n",
    "# input parameters\n",
    "beta, U, Lambda, kps  = 20, 1.0, 10000, array([64, 64, 1]) \n",
    "\n",
    "# Generate k mesh and non-interacting band energies\n",
    "nk, kgrid = prod(kps), [2*pi*arange(kp)/kp for kp in kps]\n",
    "k1, k2, k3 = meshgrid(kgrid[0], kgrid[1], kgrid[2], indexing='ij')\n",
    "ek = -2*(cos(k1)+cos(k2))\n",
    "\n",
    "# irbasis\n",
    "b = irbasis.load('F', Lambda)\n",
    "sp_x = b.sampling_points_x(b.dim()-1)\n",
    "sp_n = b.sampling_points_matsubara(b.dim()-1)\n",
    "unl = b.compute_unl(sp_n)*sqrt(beta)\n",
    "ulx = array([b.ulx(None, x) for x in sp_x])*sqrt(2/beta)\n",
    "    \n",
    "# start calculation\n",
    "_if = 1j*pi*outer((2*sp_n+1), ones(nk))/beta\n",
    "_ek = outer(ones(len(sp_n)), ek) \n",
    "gkf = 1.0 / (_if - _ek)\n",
    "gkl = linalg.lstsq(unl, gkf, rcond=None)[0]\n",
    "gkt = ulx @ gkl\n",
    "grt = fft.fftn(gkt.reshape(len(sp_x), kps[0], kps[1], kps[2]), axes=(1,2,3)).reshape(len(sp_x), nk) \n",
    "srt = U*U*grt*grt*grt[::-1,:]\n",
    "res = linalg.lstsq(ulx, srt, rcond=None)\n",
    "srf = dot(unl, res[0])\n",
    "skf = fft.ifftn(srf.reshape(len(sp_n), kps[0], kps[1], kps[2]), axes=(1,2,3))/nk/nk"
   ]
  },
  {
   "cell_type": "code",
   "execution_count": 32,
   "metadata": {},
   "outputs": [
    {
     "data": {
      "text/plain": [
       "array([[ 4.81273598, -6.25213374,  7.87006059, ..., -4.53506631,\n",
       "         4.47778039, -4.42053412],\n",
       "       [ 4.60606982, -5.96455268,  7.38356369, ...,  4.16446086,\n",
       "        -4.12903926,  4.09153863],\n",
       "       [ 4.20083927, -5.40135711,  6.43707123, ..., -3.2938326 ,\n",
       "         3.27192434, -3.24472983],\n",
       "       ...,\n",
       "       [ 4.20083927,  5.40135711,  6.43707123, ...,  3.2938326 ,\n",
       "         3.27192434,  3.24472983],\n",
       "       [ 4.60606982,  5.96455268,  7.38356369, ..., -4.16446086,\n",
       "        -4.12903926, -4.09153863],\n",
       "       [ 4.81273598,  6.25213374,  7.87006059, ...,  4.53506631,\n",
       "         4.47778039,  4.42053412]])"
      ]
     },
     "execution_count": 32,
     "metadata": {},
     "output_type": "execute_result"
    }
   ],
   "source": [
    "ulx"
   ]
  },
  {
   "cell_type": "code",
   "execution_count": 33,
   "metadata": {},
   "outputs": [
    {
     "data": {
      "text/plain": [
       "Text(0.5, 0, '$\\\\omega$')"
      ]
     },
     "execution_count": 33,
     "metadata": {},
     "output_type": "execute_result"
    },
    {
     "data": {
      "image/png": "[encoded data removed]",
      "text/plain": [
       "<Figure size 432x288 with 1 Axes>"
      ]
     },
     "metadata": {
      "needs_background": "light"
     },
     "output_type": "display_data"
    }
   ],
   "source": [
    "import matplotlib.pyplot as plt\n",
    "\n",
    "\n",
    "plt.plot(sp_n, skf[:,0,0,0].imag, marker='x')\n",
    "plt.plot(sp_n, skf[:,0,32,0].imag, marker='x')\n",
    "plt.xlabel(r\"$\\omega$\")"
   ]
  },
  {
   "cell_type": "code",
   "execution_count": null,
   "metadata": {},
   "outputs": [],
   "source": []
  }
 ],
 "metadata": {
  "kernelspec": {
   "display_name": "Python 3",
   "language": "python",
   "name": "python3"
  },
  "language_info": {
   "codemirror_mode": {
    "name": "ipython",
    "version": 3
   },
   "file_extension": ".py",
   "mimetype": "text/x-python",
   "name": "python",
   "nbconvert_exporter": "python",
   "pygments_lexer": "ipython3",
   "version": "3.8.2"
  }
 },
 "nbformat": 4,
 "nbformat_minor": 4
}
