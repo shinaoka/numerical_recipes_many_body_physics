{
 "cells": [
  {
   "cell_type": "code",
   "execution_count": 6,
   "metadata": {},
   "outputs": [
    {
     "name": "stdout",
     "output_type": "stream",
     "text": [
      "dim:  72\n",
      "singular values:  [6.93676632e-02 6.39029304e-02 4.73525981e-02 3.78765556e-02\n",
      " 2.69709397e-02 1.97919952e-02 1.38987851e-02 9.79170114e-03\n",
      " 6.77586537e-03 4.66563008e-03 3.18095991e-03 2.15479043e-03\n",
      " 1.44908097e-03 9.68433898e-04 6.43222579e-04 4.24765651e-04\n",
      " 2.78944576e-04 1.82210441e-04 1.18411677e-04 7.65700139e-05\n",
      " 4.92756267e-05 3.15628325e-05 2.01254341e-05 1.27758728e-05\n",
      " 8.07529293e-06 5.08266091e-06 3.18587477e-06 1.98887606e-06\n",
      " 1.23669448e-06 7.65992957e-07 4.72633737e-07 2.90529576e-07\n",
      " 1.77929561e-07 1.08573268e-07 6.60143404e-08 3.99959952e-08\n",
      " 2.41478607e-08 1.45293028e-08 8.71232105e-09 5.20671801e-09\n",
      " 3.10136291e-09 1.84126342e-09 1.08960675e-09 6.42730925e-10\n",
      " 3.77927545e-10 2.21524423e-10 1.29443906e-10 7.54051848e-11\n",
      " 4.37917794e-11 2.53552246e-11 1.46364946e-11 8.42388202e-12\n",
      " 4.83396492e-12 2.76580014e-12 1.57787966e-12 8.97577822e-13\n",
      " 5.09125136e-13 2.87965124e-13 1.62415181e-13 9.13467044e-14\n",
      " 5.12326226e-14 2.86546680e-14 1.59825721e-14 8.89012035e-15\n",
      " 4.93157043e-15 2.72826291e-15 1.50527941e-15 8.28293591e-16\n",
      " 4.54562830e-16 2.48800912e-16 1.35820168e-16 7.39497064e-17]\n",
      "u_0(0.1) 0.27401896348952326\n",
      "v_0(0.1) 0.7859154340971242\n",
      "k-th derivative of u_l(x) and v_l(y)\n",
      "  1 0.04705147674680368\n",
      "  1 -5.044715458614918\n",
      "  2 0.4853426135802095\n",
      "  2 76.97205690788114\n",
      "unl  (10, 72)\n"
     ]
    }
   ],
   "source": [
    "import irbasis\n",
    "import numpy\n",
    "\n",
    "b = irbasis.load('F',  1000)\n",
    "print(\"dim: \", b.dim())\n",
    "\n",
    "# All singular values\n",
    "print(\"singular values: \", b.sl())\n",
    "print(\"u_0(0.1)\", b.ulx(0, 0.1))\n",
    "print(\"v_0(0.1)\", b.vly(0, 0.1))\n",
    "\n",
    "print(\"k-th derivative of u_l(x) and v_l(y)\")\n",
    "for k in range(1,3):\n",
    "    print(\" \", k, b.d_ulx(0, 0.1, k))\n",
    "    print(\" \", k, b.d_vly(0, 0.1, k))\n",
    "\n",
    "# Compute u_{ln} as a matrix for the first\n",
    "# 10 non-nagative Matsubara frequencies\n",
    "unl = b.compute_unl(numpy.arange(10))\n",
    "print(\"unl \", unl.shape)"
   ]
  },
  {
   "cell_type": "code",
   "execution_count": 7,
   "metadata": {},
   "outputs": [
    {
     "name": "stdout",
     "output_type": "stream",
     "text": [
      "[-0.99993502 -0.99959192 -0.99881051 -0.99757353 -0.99586811 -0.99367623\n",
      " -0.99097405 -0.98773113 -0.98390935 -0.97946168 -0.97433066 -0.96844652\n",
      " -0.96172502 -0.95406504 -0.94534584 -0.93542411 -0.92413097 -0.91126882\n",
      " -0.89660834 -0.87988568 -0.86079999 -0.83901167 -0.81414173 -0.78577301\n",
      " -0.75345446 -0.71671003 -0.67505415 -0.62801642 -0.57517774 -0.51621973\n",
      " -0.45098698 -0.37955772 -0.30231318 -0.21998938 -0.13369172 -0.04485519\n",
      "  0.04485519  0.13369172  0.21998938  0.30231318  0.37955772  0.45098698\n",
      "  0.51621973  0.57517774  0.62801642  0.67505415  0.71671003  0.75345446\n",
      "  0.78577301  0.81414173  0.83901167  0.86079999  0.87988568  0.89660834\n",
      "  0.91126882  0.92413097  0.93542411  0.94534584  0.95406504  0.96172502\n",
      "  0.96844652  0.97433066  0.97946168  0.98390935  0.98773113  0.99097405\n",
      "  0.99367623  0.99586811  0.99757353  0.99881051  0.99959192  0.99993502]\n",
      "[-1739  -716  -435  -307  -234  -186  -151  -126  -106   -90   -77   -66\n",
      "   -57   -49   -43   -37   -32   -28   -24   -21   -19   -17   -15   -13\n",
      "   -12   -11   -10    -9    -8    -7    -6    -5    -4    -3    -2    -1\n",
      "     0     1     2     3     4     5     6     7     8     9    10    11\n",
      "    12    14    16    18    20    23    27    31    36    42    48    56\n",
      "    65    76    89   105   125   150   185   233   306   434   715  1738]\n"
     ]
    }
   ],
   "source": [
    "import irbasis\n",
    "import numpy\n",
    "\n",
    "beta = 100.0\n",
    "wmax = 10\n",
    "b = irbasis.load('F', wmax * beta)\n",
    "dim = b.dim()\n",
    "\n",
    "# Sampling points in x\n",
    "sp_x = b.sampling_points_x(whichl=dim-1)\n",
    "print(sp_x)\n",
    "\n",
    "# Sampling frequencies in n\n",
    "sp_n = b.sampling_points_matsubara(whichl=dim-1)\n",
    "print(sp_n)\n",
    "\n",
    "all_ls = numpy.arange(dim)\n",
    "\n",
    "# Compute F and pseudo inverse for imaginary time\n",
    "Ftau = numpy.sqrt(2/beta) * \\\n",
    "    b.ulx(all_ls[:, None], sp_x[None,:])\n",
    "invFtau = numpy.linalg.pinv(Ftau)\n",
    "\n",
    "# Compute F and pseudo inverse for imaginary frequency\n",
    "hatF = numpy.sqrt(beta) * b.compute_unl(sp_n)\n",
    "invhatF = numpy.linalg.pinv(hatF)"
   ]
  },
  {
   "cell_type": "code",
   "execution_count": 8,
   "metadata": {},
   "outputs": [
    {
     "data": {
      "text/plain": [
       "[<matplotlib.lines.Line2D at 0x13cd8c550>]"
      ]
     },
     "execution_count": 8,
     "metadata": {},
     "output_type": "execute_result"
    },
    {
     "data": {
      "image/png": "[encoded data removed]",
      "text/plain": [
       "<Figure size 432x288 with 1 Axes>"
      ]
     },
     "metadata": {
      "needs_background": "light"
     },
     "output_type": "display_data"
    }
   ],
   "source": [
    "import matplotlib.pyplot as plt\n",
    "\n",
    "# Green's function evaluated on the sampling frequencies\n",
    "giw = 1/(1J*(2*sp_n+1)/beta - 1.0)\n",
    "gl_from_iw = invhatF @ giw\n",
    "\n",
    "plt.semilogy(numpy.abs(gl_from_iw.real))"
   ]
  },
  {
   "cell_type": "code",
   "execution_count": null,
   "metadata": {},
   "outputs": [],
   "source": []
  }
 ],
 "metadata": {
  "kernelspec": {
   "display_name": "Python 3",
   "language": "python",
   "name": "python3"
  },
  "language_info": {
   "codemirror_mode": {
    "name": "ipython",
    "version": 3
   },
   "file_extension": ".py",
   "mimetype": "text/x-python",
   "name": "python",
   "nbconvert_exporter": "python",
   "pygments_lexer": "ipython3",
   "version": "3.9.1"
  }
 },
 "nbformat": 4,
 "nbformat_minor": 4
}
