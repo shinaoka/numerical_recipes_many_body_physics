{
 "cells": [
  {
   "cell_type": "markdown",
   "metadata": {},
   "source": [
    "# Sparse sampling for self-energy"
   ]
  },
  {
   "cell_type": "code",
   "execution_count": 1,
   "metadata": {},
   "outputs": [],
   "source": [
    "%load_ext autoreload"
   ]
  },
  {
   "cell_type": "code",
   "execution_count": 2,
   "metadata": {},
   "outputs": [],
   "source": [
    "%autoreload 2"
   ]
  },
  {
   "cell_type": "code",
   "execution_count": 3,
   "metadata": {},
   "outputs": [],
   "source": [
    "import sys, os\n",
    "import numpy as np\n",
    "import matplotlib.pyplot as pl\n",
    "\n",
    "pl.rcParams.update({\n",
    "    \"text.usetex\": True,\n",
    "    \"font.family\": \"serif\"})"
   ]
  },
  {
   "cell_type": "code",
   "execution_count": 4,
   "metadata": {},
   "outputs": [],
   "source": [
    "try:\n",
    "    import pyximport\n",
    "    os.environ['CFLAGS'] = os.environ.get('CFLAGS','') + ' -fopenmp'\n",
    "    os.environ['LDFLAGS'] = os.environ.get('LDFLAGS','') + ' -fopenmp'\n",
    "    pyximport.install(setup_args={\n",
    "        'include_dirs': np.get_include()\n",
    "        })\n",
    "except ImportError:\n",
    "    pass"
   ]
  },
  {
   "cell_type": "code",
   "execution_count": 5,
   "metadata": {},
   "outputs": [],
   "source": [
    "import irbasis\n",
    "import irbasis_x\n",
    "from irbasis_x import _aux\n",
    "from irbasis_x import freq\n",
    "from irbasis_x import atom\n",
    "from irbasis_x import fourpoint\n",
    "from irbasis_x import twopoint\n",
    "from irbasis_x import quad"
   ]
  },
  {
   "cell_type": "markdown",
   "metadata": {},
   "source": [
    "IR basis infrastructure"
   ]
  },
  {
   "cell_type": "code",
   "execution_count": 6,
   "metadata": {},
   "outputs": [],
   "source": [
    "#cutoff = 1e-7\n",
    "wmax = 1.0\n",
    "beta = 10.0\n",
    "lambda_ = wmax * beta"
   ]
  },
  {
   "cell_type": "code",
   "execution_count": 7,
   "metadata": {},
   "outputs": [
    {
     "data": {
      "text/plain": [
       "20"
      ]
     },
     "execution_count": 7,
     "metadata": {},
     "output_type": "execute_result"
    }
   ],
   "source": [
    "b_ = twopoint.VertexBasis(irbasis.load('F', lambda_))\n",
    "b = twopoint.FiniteTemperatureBasis(b_, beta)\n",
    "b.dim()"
   ]
  },
  {
   "cell_type": "markdown",
   "metadata": {},
   "source": [
    "We consider the self-energy given by\n",
    "$$\n",
    "\\Sigma(i\\omega_n) = \\Sigma_0 + \\frac{1}{i\\omega-\\epsilon_0},\n",
    "$$\n",
    "where $\\epsilon_0 = 1/2$."
   ]
  },
  {
   "cell_type": "markdown",
   "metadata": {},
   "source": [
    "Sampling frequencies"
   ]
  },
  {
   "cell_type": "code",
   "execution_count": 8,
   "metadata": {},
   "outputs": [],
   "source": [
    "wf_sp = b.sampling_points_matsubara(b.dim()-1)\n",
    "\n",
    "Sl = b.Sl(None)\n",
    "Unl = b.compute_Unl(wf_sp)"
   ]
  },
  {
   "cell_type": "code",
   "execution_count": 9,
   "metadata": {},
   "outputs": [],
   "source": [
    "sigma_0 = 1\n",
    "epsilon_0 = 0.5\n",
    "sigma = lambda n: sigma_0 + 1/(1J*(2*n+1)*np.pi/beta - epsilon_0)"
   ]
  },
  {
   "cell_type": "code",
   "execution_count": 10,
   "metadata": {},
   "outputs": [],
   "source": [
    "y_sp = sigma(wf_sp)\n",
    "gl = np.linalg.lstsq(Unl, sigma(y_sp), rcond=None)[0]"
   ]
  },
  {
   "cell_type": "code",
   "execution_count": 11,
   "metadata": {},
   "outputs": [
    {
     "data": {
      "text/plain": [
       "''"
      ]
     },
     "execution_count": 11,
     "metadata": {},
     "output_type": "execute_result"
    },
    {
     "data": {
      "image/png": "[encoded data removed]",
      "text/plain": [
       "<Figure size 432x648 with 3 Axes>"
      ]
     },
     "metadata": {
      "needs_background": "light"
     },
     "output_type": "display_data"
    }
   ],
   "source": [
    "fig = pl.figure(figsize=(6,9))\n",
    "ax1 = pl.subplot(311)\n",
    "ax2 = pl.subplot(312, sharex = ax1)\n",
    "ax3 = pl.subplot(313)\n",
    "\n",
    "axes = [ax1, ax2, ax3]\n",
    "\n",
    "x_test = np.arange(1.5*np.amax(wf_sp)+1)\n",
    "y_fit = sigma(x_test)\n",
    "ax1.plot((2*x_test+1)*np.pi/beta, np.abs(y_fit.real), marker='', label=r'$\\mathrm{Fit}$', c='r')\n",
    "ax1.plot((2*wf_sp+1)*np.pi/beta, np.abs(y_sp.real), marker='x', ls='', label=r'$\\mathrm{Samples}$', c='k')\n",
    "ax1.legend(frameon=False)\n",
    "\n",
    "ax2.plot((2*x_test+1)*np.pi/beta, np.abs(y_fit.imag), marker='', label=r'$\\mathrm{Fit}$', c='r')\n",
    "ax2.plot((2*wf_sp+1)*np.pi/beta, np.abs(y_sp.imag), marker='x', ls='', label=r'$\\mathrm{Samples}$', c='k')\n",
    "ax2.legend(frameon=False)\n",
    "\n",
    "#ax3.semilogy(np.abs(rhol) * Sl, marker='o', c='k')\n",
    "ax3.semilogy(np.abs(gl), marker='o', c='k')\n",
    "#ax3.semilogy(Sl/Sl[0], marker='', ls='--', c='k')\n",
    "\n",
    "#ax1.set_xscale('log')\n",
    "ax1.set_xlim([0, None])\n",
    "ax1.set_ylabel(r'$|\\mathrm{Re}~\\hat M(i\\nu)|$')\n",
    "\n",
    "pl.setp(ax1.get_xticklabels(), visible=False)\n",
    "\n",
    "ax2.set_xlabel(r'$\\nu$')\n",
    "#ax2.set_xscale('log')\n",
    "ax2.set_ylabel(r'$|\\mathrm{Im}~\\hat M(i\\nu)|$')\n",
    "\n",
    "ax3.set_xlabel(r'$l$')\n",
    "ax3.set_yscale('log')\n",
    "ax3.set_ylabel(r'$|M_l|$')\n",
    "\n",
    "for ax, label in zip(axes, ['a', 'b', 'c']):\n",
    "    ax.text(-0.15, 1.04, r'$\\mathrm{(' + label + r')}$', transform=ax.transAxes,\n",
    "             fontsize=20, fontweight='bold', va='top', ha='right')\n",
    "\n",
    "pl.tight_layout()\n",
    "pl.savefig('sparse_sampling.pdf', transparent=True)\n",
    ";"
   ]
  },
  {
   "cell_type": "code",
   "execution_count": null,
   "metadata": {},
   "outputs": [],
   "source": []
  },
  {
   "cell_type": "code",
   "execution_count": null,
   "metadata": {},
   "outputs": [],
   "source": []
  },
  {
   "cell_type": "code",
   "execution_count": null,
   "metadata": {},
   "outputs": [],
   "source": []
  }
 ],
 "metadata": {
  "kernelspec": {
   "display_name": "Python 3",
   "language": "python",
   "name": "python3"
  },
  "language_info": {
   "codemirror_mode": {
    "name": "ipython",
    "version": 3
   },
   "file_extension": ".py",
   "mimetype": "text/x-python",
   "name": "python",
   "nbconvert_exporter": "python",
   "pygments_lexer": "ipython3",
   "version": "3.8.2"
  }
 },
 "nbformat": 4,
 "nbformat_minor": 4
}
