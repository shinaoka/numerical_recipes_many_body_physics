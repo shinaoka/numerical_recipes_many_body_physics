{
 "cells": [
  {
   "cell_type": "markdown",
   "source": [
    "# Section 2"
   ],
   "metadata": {}
  },
  {
   "cell_type": "code",
   "execution_count": null,
   "source": [
    "import numpy as np\n",
    "%matplotlib inline\n",
    "import matplotlib.pyplot as plt\n",
    "\n",
    "plt.rcParams.update({\n",
    "    \"text.usetex\": True,\n",
    "    \"font.family\": \"serif\",\n",
    "    \"font.size\": 16\n",
    "})"
   ],
   "outputs": [],
   "metadata": {}
  },
  {
   "cell_type": "markdown",
   "source": [
    "$$\n",
    "G(\\tau) = -\\frac{1}{2}\\left(\n",
    "    \\frac{e^{- \\tau U/2}}{1+e^{-\\beta U/2}} + \\frac{e^{\\tau U/2}}{1+e^{-\\beta U/2}}\n",
    "\\right)\n",
    "$$"
   ],
   "metadata": {}
  },
  {
   "cell_type": "code",
   "execution_count": null,
   "source": [
    "fig = plt.figure(figsize=(6,6))\n",
    "ax1 = plt.subplot(211)\n",
    "ax2 = plt.subplot(212, sharex = ax1)\n",
    "axes = [ax1, ax2]\n",
    "\n",
    "beta = 300.0\n",
    "U = 1.0\n",
    "ntau = 1000\n",
    "\n",
    "taus = np.linspace(0.0, beta, ntau)\n",
    "\n",
    "gtau_single_pole = lambda tau, epsilon: -np.exp(-tau*epsilon)/(1+np.exp(-beta*epsilon))\n",
    "gtau = lambda taus: 0.5*(gtau_single_pole(taus, 0.5*U) + gtau_single_pole(taus, -0.5*U))\n",
    "\n",
    "gtaus = gtau(taus)\n",
    "ax1.plot(taus, gtaus)\n",
    "ax2.semilogy(taus, np.abs(gtaus))\n",
    "#ax2.plot(xs, xs**2)\n",
    "#ax3.plot(xs, xs**3)\n",
    "\n",
    "#ax1.legend(frameon=False)\n",
    "\n",
    "ax1.set_ylabel(r'$G(\\tau)$')\n",
    "ax2.set_ylabel(r'$|G(\\tau)|$')\n",
    "ax2.set_xlabel(r'$\\tau$')\n",
    "plt.tight_layout()\n",
    "plt.savefig('gtau_hubbard_atom.pdf', transparent=True)\n",
    ";"
   ],
   "outputs": [],
   "metadata": {}
  },
  {
   "cell_type": "code",
   "execution_count": null,
   "source": [
    "giv = lambda v: 0.5*( 1/(1J*v*np.pi/beta - 0.5*U) + 1/(1J*v*np.pi/beta + 0.5*U) )"
   ],
   "outputs": [],
   "metadata": {}
  },
  {
   "cell_type": "code",
   "execution_count": null,
   "source": [
    "vs = 2*np.arange(-200, 200)+1\n",
    "givs = giv(vs)\n",
    "plt.plot(vs * np.pi/beta, givs.real, marker='x', ls='')\n",
    "plt.xlabel(r'$\\nu$')\n",
    "plt.ylabel(r'$\\mathrm{Re}~G(\\mathrm{i}\\nu)$')"
   ],
   "outputs": [],
   "metadata": {}
  },
  {
   "cell_type": "code",
   "execution_count": null,
   "source": [
    "x = vs * np.pi/beta\n",
    "plt.plot(x, givs.imag, marker='x', ls='')\n",
    "plt.plot(x, -1/x, marker='', ls='-')\n",
    "plt.xlabel(r'$\\nu$')\n",
    "plt.ylabel(r'$\\mathrm{Im}~G(\\mathrm{i}\\nu)$')\n",
    "plt.ylim([-1.5, 1.5])\n",
    "plt.savefig('giv_hubbard_atom.pdf', transparent=True)\n",
    ";"
   ],
   "outputs": [],
   "metadata": {}
  },
  {
   "cell_type": "code",
   "execution_count": null,
   "source": [
    "gtau_trunc = lambda tau: (1/beta) * np.sum(givs * np.exp(-1J*tau*vs*np.pi/beta))"
   ],
   "outputs": [],
   "metadata": {}
  },
  {
   "cell_type": "code",
   "execution_count": null,
   "source": [
    "taus_near_zero = np.linspace(0, 10/U, 100)\n",
    "plt.plot(taus_near_zero, gtau(taus_near_zero).real)\n",
    "plt.plot(taus_near_zero, [gtau_trunc(t).real for t in taus_near_zero])\n",
    "plt.xlabel(r'$\\tau$')\n",
    "plt.ylabel(r'$G(\\tau)$')\n",
    "plt.tight_layout()\n",
    "plt.savefig(\"naive_inverse_transform_hubbard_atom.pdf\", transparent=True)"
   ],
   "outputs": [],
   "metadata": {}
  },
  {
   "cell_type": "code",
   "execution_count": null,
   "source": [],
   "outputs": [],
   "metadata": {}
  }
 ],
 "metadata": {
  "kernelspec": {
   "display_name": "Python 3",
   "language": "python",
   "name": "python3"
  },
  "language_info": {
   "codemirror_mode": {
    "name": "ipython",
    "version": 3
   },
   "file_extension": ".py",
   "mimetype": "text/x-python",
   "name": "python",
   "nbconvert_exporter": "python",
   "pygments_lexer": "ipython3",
   "version": "3.9.6"
  }
 },
 "nbformat": 4,
 "nbformat_minor": 4
}