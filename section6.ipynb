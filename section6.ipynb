{
 "cells": [
  {
   "cell_type": "markdown",
   "metadata": {},
   "source": [
    "# Section 6"
   ]
  },
  {
   "cell_type": "code",
   "execution_count": 1,
   "metadata": {},
   "outputs": [],
   "source": [
    "import numpy as np\n",
    "%matplotlib inline\n",
    "import matplotlib.pyplot as plt\n",
    "\n",
    "plt.rcParams.update({\n",
    "    \"text.usetex\": True,\n",
    "    \"font.family\": \"serif\",\n",
    "    \"font.size\": 16,\n",
    "    'text.latex.preamble': r\"\\usepackage{amsmath}\"\n",
    "})"
   ]
  },
  {
   "cell_type": "code",
   "execution_count": 2,
   "metadata": {},
   "outputs": [],
   "source": [
    "import irbasis3"
   ]
  },
  {
   "cell_type": "markdown",
   "metadata": {},
   "source": [
    "## Generate IR basis by singular value expansion"
   ]
  },
  {
   "cell_type": "code",
   "execution_count": 3,
   "metadata": {},
   "outputs": [],
   "source": [
    "# Create kenerl for lambda_ = 100 and beta = 10\n",
    "# The default value of eps ``cutoff for singular values\" is\n",
    "# set to 2.2e-16.\n",
    "# In this sample, we compute fewer basis functions.\n",
    "lambda_ = 100\n",
    "beta = 10\n",
    "wmax = lambda_/beta\n",
    "K = irbasis3.KernelFFlat(lambda_=100)\n",
    "basis = irbasis3.FiniteTempBasis(\n",
    "    K, statistics='F', beta=beta, eps=1e-10)"
   ]
  },
  {
   "cell_type": "markdown",
   "metadata": {},
   "source": [
    "## Singular values"
   ]
  },
  {
   "cell_type": "code",
   "execution_count": 4,
   "metadata": {},
   "outputs": [
    {
     "data": {
      "text/plain": [
       "array([1.45387261e+00, 1.24137141e+00, 7.98387159e-01, 5.34115485e-01,\n",
       "       3.19202855e-01, 1.88195405e-01, 1.06269952e-01, 5.84664007e-02,\n",
       "       3.12626140e-02, 1.62959998e-02, 8.28608690e-03, 4.11383766e-03,\n",
       "       1.99543191e-03, 9.46115126e-04, 4.38678206e-04, 1.98971153e-04,\n",
       "       8.83076718e-05, 3.83596425e-05, 1.63120097e-05, 6.79164595e-06,\n",
       "       2.76915058e-06, 1.10582146e-06, 4.32562293e-07, 1.65764896e-07,\n",
       "       6.22400190e-08, 2.28998146e-08, 8.25716208e-09, 2.91821977e-09,\n",
       "       1.01098806e-09, 3.43374895e-10])"
      ]
     },
     "execution_count": 4,
     "metadata": {},
     "output_type": "execute_result"
    }
   ],
   "source": [
    "basis.s"
   ]
  },
  {
   "cell_type": "code",
   "execution_count": null,
   "metadata": {},
   "outputs": [],
   "source": [
    "plt.semilogy(basis.s, marker='o', ls='')\n",
    "plt.xlabel(r'$l$')\n",
    "plt.ylabel(r'$S_l$')\n",
    "plt.tight_layout()\n",
    "plt.savefig('ir_basis_svals.pdf', transparent=True)"
   ]
  },
  {
   "cell_type": "markdown",
   "metadata": {},
   "source": [
    "## $U_l(\\tau)$ and $V_l(\\omega)$"
   ]
  },
  {
   "cell_type": "code",
   "execution_count": null,
   "metadata": {},
   "outputs": [],
   "source": [
    "fig = plt.figure(figsize=(6,8))\n",
    "ax1 = plt.subplot(211)\n",
    "ax2 = plt.subplot(212)\n",
    "axes = [ax1, ax2]\n",
    "\n",
    "taus = np.linspace(0, beta, 1000)\n",
    "omegas = np.linspace(-wmax, wmax, 1000)\n",
    "\n",
    "for l in range(4):\n",
    "    ax1.plot(taus, basis.u[l](taus), label=f'$l={l}$')\n",
    "    ax2.plot(omegas, basis.v[l](omegas), label=f'$l={l}$')\n",
    "\n",
    "ax1.set_xlabel(r'$\\tau$')\n",
    "ax2.set_xlabel(r'$\\omega$')\n",
    "ax1.set_ylabel(r'$U_l(\\tau)$')\n",
    "ax2.set_ylabel(r'$V_l(\\omega)$')\n",
    "ax1.set_xlim([0,beta])\n",
    "ax2.set_xlim([-wmax, wmax])\n",
    "\n",
    "ax1.legend(loc='best', frameon=False)\n",
    "ax2.legend(loc='best', frameon=False)\n",
    "plt.tight_layout()\n",
    "plt.savefig('ir_basis_functions.pdf', transparent=True)"
   ]
  },
  {
   "cell_type": "code",
   "execution_count": null,
   "metadata": {},
   "outputs": [],
   "source": [
    "# Three Gaussian peaks (normalized to 1)\n",
    "gaussian = lambda x, mu, sigma: np.exp(-((x-mu)/sigma)**2)/(np.sqrt(np.pi)*sigma)\n",
    "\n",
    "rho = lambda omega: 0.2*gaussian(omega, 0.0, 0.15) + \\\n",
    "    0.4*gaussian(omega, 1.0, 0.8) + 0.4*gaussian(omega, -1.0, 0.8)\n",
    "\n",
    "omegas = np.linspace(-5, 5, 1000)\n",
    "plt.xlabel(r'$\\omega$')\n",
    "plt.ylabel(r'$\\rho(\\omega)$')\n",
    "plt.plot(omegas, rho(omegas))"
   ]
  },
  {
   "cell_type": "code",
   "execution_count": null,
   "metadata": {},
   "outputs": [],
   "source": [
    "# Set up Composite Gauss-Legendre quadrature\n",
    "# Let -wmax = w_1 < w_2 < ... < w_{N-1} < w_N = wmax be a partition of [-wmax, wmax],\n",
    "# where w_2, ..., w_{N-1} are the roots of the highest basis function in omega.\n",
    "# We apply Gauss-Legendre quadrature to each integral. \n",
    "from numpy.polynomial.legendre import leggauss\n",
    "\n",
    "def scale_quad(x, w, xmax, xmin):\n",
    "    \"\"\" Scale weights and notes of quadrature to the interval [xmin, xmax] \"\"\"\n",
    "    assert xmin < xmax\n",
    "    dx = xmax - xmin\n",
    "    w_ = 0.5 * dx * w\n",
    "    x_ = (0.5 * dx) * (x + 1) + xmin\n",
    "    return x_, w_\n",
    "\n",
    "# Roots of highest V_l\n",
    "roots = basis.v[-1].roots()\n",
    "bins = np.hstack((-wmax, roots, wmax))\n",
    "\n",
    "x, w = leggauss(deg=20)\n",
    "omegas_quad = []\n",
    "weights_quad = []\n",
    "for i in range(bins.size-1):\n",
    "    x_, w_ = scale_quad(x, w, bins[i+1], bins[i])\n",
    "    omegas_quad.append(x_)\n",
    "    weights_quad.append(w_)\n",
    "omegas_quad = np.hstack(omegas_quad)\n",
    "weights_quad = np.hstack(weights_quad)"
   ]
  },
  {
   "cell_type": "code",
   "execution_count": null,
   "metadata": {},
   "outputs": [],
   "source": [
    "# Check orthogonality condition\n",
    "for i in range(basis.size):\n",
    "    for j in range(i, basis.size):\n",
    "        print(i, j, weights_quad @ (basis.v[j](omegas_quad) * basis.v[i](omegas_quad)))"
   ]
  },
  {
   "cell_type": "code",
   "execution_count": null,
   "metadata": {},
   "outputs": [],
   "source": []
  }
 ],
 "metadata": {
  "interpreter": {
   "hash": "aee8b7b246df8f9039afb4144a1f6fd8d2ca17a180786b69acc140d282b71a49"
  },
  "kernelspec": {
   "display_name": "Python 3 (ipykernel)",
   "language": "python",
   "name": "python3"
  },
  "language_info": {
   "codemirror_mode": {
    "name": "ipython",
    "version": 3
   },
   "file_extension": ".py",
   "mimetype": "text/x-python",
   "name": "python",
   "nbconvert_exporter": "python",
   "pygments_lexer": "ipython3",
   "version": "3.8.12"
  }
 },
 "nbformat": 4,
 "nbformat_minor": 4
}
